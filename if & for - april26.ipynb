{
 "cells": [
  {
   "cell_type": "code",
   "execution_count": null,
   "metadata": {},
   "outputs": [],
   "source": [
    "mode control flow stm\n",
    "nested statements\n",
    "loops\n",
    "list comprehensions today\n",
    "keyword in python -break, continue , pass"
   ]
  },
  {
   "cell_type": "code",
   "execution_count": 1,
   "metadata": {},
   "outputs": [
    {
     "ename": "NameError",
     "evalue": "name 'condition' is not defined",
     "output_type": "error",
     "traceback": [
      "\u001b[1;31m---------------------------------------------------------------------------\u001b[0m",
      "\u001b[1;31mNameError\u001b[0m                                 Traceback (most recent call last)",
      "\u001b[1;32m<ipython-input-1-54d232bf0123>\u001b[0m in \u001b[0;36m<module>\u001b[1;34m\u001b[0m\n\u001b[1;32m----> 1\u001b[1;33m \u001b[1;32mif\u001b[0m \u001b[0mcondition\u001b[0m\u001b[1;33m:\u001b[0m\u001b[1;33m\u001b[0m\u001b[1;33m\u001b[0m\u001b[0m\n\u001b[0m\u001b[0;32m      2\u001b[0m     \u001b[0mbody\u001b[0m\u001b[1;33m\u001b[0m\u001b[1;33m\u001b[0m\u001b[0m\n",
      "\u001b[1;31mNameError\u001b[0m: name 'condition' is not defined"
     ]
    }
   ],
   "source": [
    "if condition:\n",
    "    body"
   ]
  },
  {
   "cell_type": "code",
   "execution_count": 2,
   "metadata": {},
   "outputs": [
    {
     "name": "stdout",
     "output_type": "stream",
     "text": [
      "try again\n"
     ]
    }
   ],
   "source": [
    "if 'b' in 'apple':\n",
    "    print('match found')\n",
    "else:\n",
    "    print(\"try again\")"
   ]
  },
  {
   "cell_type": "code",
   "execution_count": 3,
   "metadata": {},
   "outputs": [
    {
     "name": "stdout",
     "output_type": "stream",
     "text": [
      "what is the data to be found? hi\n",
      "What is the pool of data from which the data has to be retrieved heya\n",
      "fail\n"
     ]
    }
   ],
   "source": [
    "match=input(\"what is the data to be found? \")\n",
    "pool=input(\"What is the pool of data from which the data has to be retrieved \")\n",
    "\n",
    "if match in pool:\n",
    "    print(\"done\")\n",
    "else:\n",
    "    print('fail')"
   ]
  },
  {
   "cell_type": "code",
   "execution_count": null,
   "metadata": {},
   "outputs": [],
   "source": [
    "find out whether a number is odd."
   ]
  },
  {
   "cell_type": "code",
   "execution_count": 10,
   "metadata": {},
   "outputs": [
    {
     "name": "stdout",
     "output_type": "stream",
     "text": [
      "please enter a valid number67\n",
      "odd\n"
     ]
    }
   ],
   "source": [
    "number=int(input(\"please enter a valid number\"))\n",
    "if number==0:\n",
    "    print(\"its zero. its neither even nor odd\")\n",
    "elif number%2==0:\n",
    "    print(\"its an even number\")\n",
    "else:\n",
    "    print(\"odd\")"
   ]
  },
  {
   "cell_type": "code",
   "execution_count": null,
   "metadata": {},
   "outputs": [],
   "source": [
    "whether a number is positive or negative."
   ]
  },
  {
   "cell_type": "code",
   "execution_count": 14,
   "metadata": {},
   "outputs": [
    {
     "name": "stdout",
     "output_type": "stream",
     "text": [
      "please enter a valid number90\n",
      "its a positive number\n"
     ]
    }
   ],
   "source": [
    "number=float(input(\"please enter a valid number\"))\n",
    "if number==0:\n",
    "    print(\"its zero. its neither negative nor positive\")\n",
    "elif number<0:\n",
    "    print(\"its a negative number\")\n",
    "else:\n",
    "    print(\"its a positive number\")"
   ]
  },
  {
   "cell_type": "code",
   "execution_count": 16,
   "metadata": {},
   "outputs": [
    {
     "name": "stdout",
     "output_type": "stream",
     "text": [
      "what is your GL student id?ghgh\n",
      "what is the login password for the class?jhjhh\n",
      "try again\n"
     ]
    }
   ],
   "source": [
    "studentid=input(\"what is your GL student id?\")\n",
    "password=input(\"what is the login password for the class?\")\n",
    "\n",
    "if studentid=='sham123' and password=='python100':\n",
    "    print(\"login successful\")\n",
    "else:\n",
    "    print(\"try again\")\n"
   ]
  },
  {
   "cell_type": "code",
   "execution_count": 20,
   "metadata": {},
   "outputs": [
    {
     "name": "stdout",
     "output_type": "stream",
     "text": [
      "in which city are you located?goa\n",
      "youre located somewhere else\n"
     ]
    }
   ],
   "source": [
    "location=input(\"in which city are you located?\")\n",
    "\n",
    "if location=='Bangalore' or location=='Bengaluru':\n",
    "    print(\"youre in karnataka\")\n",
    "elif location=='Bombay' or location=='Mumbai':\n",
    "    print(\"youre in maharashtra\")\n",
    "else:\n",
    "    print(\"youre located somewhere else\")"
   ]
  },
  {
   "cell_type": "code",
   "execution_count": 5,
   "metadata": {},
   "outputs": [
    {
     "data": {
      "text/plain": [
       "'data'"
      ]
     },
     "execution_count": 5,
     "metadata": {},
     "output_type": "execute_result"
    }
   ],
   "source": [
    "a='DATA'\n",
    "a.lower()"
   ]
  },
  {
   "cell_type": "code",
   "execution_count": null,
   "metadata": {},
   "outputs": [],
   "source": [
    "find out the bigger number between two number"
   ]
  },
  {
   "cell_type": "code",
   "execution_count": 25,
   "metadata": {},
   "outputs": [
    {
     "name": "stdout",
     "output_type": "stream",
     "text": [
      "please enter a valid number78\n",
      "please enter a valid number78\n",
      "the bigger number is 78.0\n"
     ]
    }
   ],
   "source": [
    "num1=float(input(\"please enter a valid number\"))\n",
    "num2=float(input(\"please enter a valid number\"))\n",
    "\n",
    "if num1>num2:\n",
    "    print(\"The bigger number is\",num1)\n",
    "else:\n",
    "    print(\"the bigger number is\",num2)"
   ]
  },
  {
   "cell_type": "code",
   "execution_count": 8,
   "metadata": {},
   "outputs": [
    {
     "name": "stdout",
     "output_type": "stream",
     "text": [
      "please enter your full name as on aadhar card.varun jain\n"
     ]
    }
   ],
   "source": [
    "name=input(\"please enter your full name as on aadhar card.\").split()"
   ]
  },
  {
   "cell_type": "code",
   "execution_count": 9,
   "metadata": {},
   "outputs": [
    {
     "data": {
      "text/plain": [
       "['varun', 'jain']"
      ]
     },
     "execution_count": 9,
     "metadata": {},
     "output_type": "execute_result"
    }
   ],
   "source": [
    "name"
   ]
  },
  {
   "cell_type": "code",
   "execution_count": 35,
   "metadata": {},
   "outputs": [
    {
     "name": "stdout",
     "output_type": "stream",
     "text": [
      "in which city are you located?MUMBAI\n",
      "youre in maharashtra\n"
     ]
    }
   ],
   "source": [
    "location=input(\"in which city are you located?\").lower()\n",
    "\n",
    "if location=='bangalore' or location=='bengaluru':\n",
    "    print(\"youre in karnataka\")\n",
    "elif location=='bombay' or location=='mumbai':\n",
    "    print(\"youre in maharashtra\")\n",
    "else:\n",
    "    print(\"youre located somewhere else\")"
   ]
  },
  {
   "cell_type": "code",
   "execution_count": 30,
   "metadata": {},
   "outputs": [],
   "source": [
    "s='shambhavi'"
   ]
  },
  {
   "cell_type": "code",
   "execution_count": 31,
   "metadata": {},
   "outputs": [
    {
     "data": {
      "text/plain": [
       "'SHAMBHAVI'"
      ]
     },
     "execution_count": 31,
     "metadata": {},
     "output_type": "execute_result"
    }
   ],
   "source": [
    "s.upper()"
   ]
  },
  {
   "cell_type": "code",
   "execution_count": 32,
   "metadata": {},
   "outputs": [
    {
     "data": {
      "text/plain": [
       "'shambhavi'"
      ]
     },
     "execution_count": 32,
     "metadata": {},
     "output_type": "execute_result"
    }
   ],
   "source": [
    "s.lower()"
   ]
  },
  {
   "cell_type": "code",
   "execution_count": 12,
   "metadata": {},
   "outputs": [
    {
     "name": "stdout",
     "output_type": "stream",
     "text": [
      "please enter your valid pancard numbervaru1234\n",
      "VARU1234\n",
      "correct data\n"
     ]
    }
   ],
   "source": [
    "pancard=input(\"please enter your valid pancard number\").upper()\n",
    "print(pancard)\n",
    "if pancard.isalnum():\n",
    "    print(\"correct data\")\n",
    "else:\n",
    "    print(\"please enter again\")\n"
   ]
  },
  {
   "cell_type": "code",
   "execution_count": null,
   "metadata": {},
   "outputs": [],
   "source": []
  },
  {
   "cell_type": "code",
   "execution_count": 53,
   "metadata": {},
   "outputs": [
    {
     "name": "stdout",
     "output_type": "stream",
     "text": [
      "please enter your valid indian cell number9588432296\n",
      "you are using an indian cell phone number\n"
     ]
    }
   ],
   "source": [
    "cellno=int(input(\"please enter your valid indian cell number\"))\n",
    "cellno=str(cellno)\n",
    "if len(cellno)==10:\n",
    "    print(\"you are using an indian cell phone number\")"
   ]
  },
  {
   "cell_type": "code",
   "execution_count": null,
   "metadata": {},
   "outputs": [],
   "source": [
    "# credit card validation code"
   ]
  },
  {
   "cell_type": "code",
   "execution_count": null,
   "metadata": {},
   "outputs": [],
   "source": [
    "sbi_valid_ccno=[1234432156788765,6789987645677654]"
   ]
  },
  {
   "cell_type": "code",
   "execution_count": null,
   "metadata": {},
   "outputs": [],
   "source": [
    "ccno=int(input(\"please enter your valid cc no\"))\n",
    "if ccno in sbi_valid_ccno:\n",
    "    print(\"its a valid card\")\n",
    "else:\n",
    "    print(\"its not a valid card\")"
   ]
  },
  {
   "cell_type": "code",
   "execution_count": 56,
   "metadata": {},
   "outputs": [
    {
     "name": "stdout",
     "output_type": "stream",
     "text": [
      "please enter your valid cc no1234432156788765\n",
      "its a valid cc no\n"
     ]
    }
   ],
   "source": [
    "ccno=int(input(\"please enter your valid cc no\"))\n",
    "ccno=str(ccno)\n",
    "if len(ccno)==16:\n",
    "    print(\"its a valid cc no\")\n",
    "else:\n",
    "    print(\"pl try again\")"
   ]
  },
  {
   "cell_type": "code",
   "execution_count": 58,
   "metadata": {},
   "outputs": [],
   "source": [
    "valid_bank_customers=['piyali dey','shambhavi shukla']"
   ]
  },
  {
   "cell_type": "code",
   "execution_count": 60,
   "metadata": {},
   "outputs": [
    {
     "name": "stdout",
     "output_type": "stream",
     "text": [
      "please enter your registered name with the namesha,mm\n",
      "not valid\n"
     ]
    }
   ],
   "source": [
    "name=input(\"please enter your registered name with the name\")\n",
    "if name in valid_bank_customers:\n",
    "    print(\"valid\")\n",
    "else:\n",
    "    print(\"not valid\")\n",
    "    "
   ]
  },
  {
   "cell_type": "code",
   "execution_count": null,
   "metadata": {},
   "outputs": [],
   "source": [
    "mm=int(input(\"please enter the expiry month on you cc no\"))\n",
    "\n",
    "if mm<1 or mm>12:\n",
    "    print(\"not valid\")\n",
    "else:\n",
    "    print(\"valid\")\n",
    "    "
   ]
  },
  {
   "cell_type": "code",
   "execution_count": 61,
   "metadata": {},
   "outputs": [
    {
     "name": "stdout",
     "output_type": "stream",
     "text": [
      "please enter the expiry month on you cc no1\n",
      "valid\n"
     ]
    }
   ],
   "source": [
    "mm=int(input(\"please enter the expiry month on you cc no\"))\n",
    "if mm in range(1,13):\n",
    "    print(\"valid\")\n",
    "    "
   ]
  },
  {
   "cell_type": "code",
   "execution_count": null,
   "metadata": {},
   "outputs": [],
   "source": []
  },
  {
   "cell_type": "code",
   "execution_count": 13,
   "metadata": {},
   "outputs": [
    {
     "name": "stdout",
     "output_type": "stream",
     "text": [
      "please ent the exp year 1995\n",
      "your card is expired\n"
     ]
    }
   ],
   "source": [
    "expiry_year=int(input(\"please ent the exp year \"))\n",
    "expiry_year=str(expiry_year)\n",
    "\n",
    "if len(expiry_year)==4:\n",
    "    expiry_year=int(expiry_year)\n",
    "    if expiry_year>2020:\n",
    "        print(\"you card is valid\")\n",
    "    else:\n",
    "        print(\"your card is expired\")\n",
    "else:\n",
    "    print(\"the length is not right\")"
   ]
  },
  {
   "cell_type": "code",
   "execution_count": 5,
   "metadata": {},
   "outputs": [
    {
     "ename": "NameError",
     "evalue": "name 'yyyy' is not defined",
     "output_type": "error",
     "traceback": [
      "\u001b[1;31m---------------------------------------------------------------------------\u001b[0m",
      "\u001b[1;31mNameError\u001b[0m                                 Traceback (most recent call last)",
      "\u001b[1;32m<ipython-input-5-b0c70700f83f>\u001b[0m in \u001b[0;36m<module>\u001b[1;34m\u001b[0m\n\u001b[1;32m----> 1\u001b[1;33m \u001b[1;32mif\u001b[0m \u001b[0myyyy\u001b[0m\u001b[1;33m==\u001b[0m\u001b[1;36m2021\u001b[0m\u001b[1;33m:\u001b[0m\u001b[1;33m\u001b[0m\u001b[1;33m\u001b[0m\u001b[0m\n\u001b[0m\u001b[0;32m      2\u001b[0m     \u001b[1;32mif\u001b[0m \u001b[0mmm\u001b[0m\u001b[1;33m==\u001b[0m\u001b[1;36m4\u001b[0m\u001b[1;33m:\u001b[0m\u001b[1;33m\u001b[0m\u001b[1;33m\u001b[0m\u001b[0m\n\u001b[0;32m      3\u001b[0m         \u001b[1;32mif\u001b[0m \u001b[0mdd\u001b[0m\u001b[1;33m==\u001b[0m\u001b[1;36m26\u001b[0m\u001b[1;33m:\u001b[0m\u001b[1;33m\u001b[0m\u001b[1;33m\u001b[0m\u001b[0m\n\u001b[0;32m      4\u001b[0m             \u001b[0mprint\u001b[0m\u001b[1;33m(\u001b[0m\u001b[1;34m\"todays date is 26 april 2021\"\u001b[0m\u001b[1;33m)\u001b[0m\u001b[1;33m\u001b[0m\u001b[1;33m\u001b[0m\u001b[0m\n",
      "\u001b[1;31mNameError\u001b[0m: name 'yyyy' is not defined"
     ]
    }
   ],
   "source": [
    "if yyyy==2021:\n",
    "    if mm==4:\n",
    "        if dd==26:\n",
    "            print(\"todays date is 26 april 2021\")"
   ]
  },
  {
   "cell_type": "code",
   "execution_count": null,
   "metadata": {},
   "outputs": [],
   "source": [
    "if continent=='Asia':\n",
    "    if country=='India':\n",
    "        if state=='karnataka':\n",
    "            if city=='Bangalore':\n",
    "                if area=='HSR layout':\n",
    "                    if sector==3:\n",
    "                        print(\"welcome to GL\")"
   ]
  },
  {
   "cell_type": "code",
   "execution_count": null,
   "metadata": {},
   "outputs": [],
   "source": []
  },
  {
   "cell_type": "code",
   "execution_count": 70,
   "metadata": {},
   "outputs": [],
   "source": [
    "vowels=['a','e','i','o','u']\n",
    "#consonants"
   ]
  },
  {
   "cell_type": "code",
   "execution_count": null,
   "metadata": {},
   "outputs": [],
   "source": [
    "python program to check is a vowel or not"
   ]
  },
  {
   "cell_type": "code",
   "execution_count": 74,
   "metadata": {},
   "outputs": [
    {
     "name": "stdout",
     "output_type": "stream",
     "text": [
      "please enter an alphaE\n",
      "its a vowel\n"
     ]
    }
   ],
   "source": [
    "data=input(\"please enter an alpha\").lower()\n",
    "if data in vowels:\n",
    "    print(\"its a vowel\")\n",
    "else:\n",
    "    print(\"its a consonant\")"
   ]
  },
  {
   "cell_type": "code",
   "execution_count": null,
   "metadata": {},
   "outputs": [],
   "source": []
  },
  {
   "cell_type": "code",
   "execution_count": null,
   "metadata": {},
   "outputs": [],
   "source": [
    "for iterator in iterable:\n",
    "    Body"
   ]
  },
  {
   "cell_type": "code",
   "execution_count": null,
   "metadata": {},
   "outputs": [],
   "source": []
  },
  {
   "cell_type": "code",
   "execution_count": 8,
   "metadata": {},
   "outputs": [
    {
     "name": "stdout",
     "output_type": "stream",
     "text": [
      "ABCD\n",
      "GHTY\n"
     ]
    }
   ],
   "source": [
    "for car in ['ABCD','GHTY']:\n",
    "    print(car)"
   ]
  },
  {
   "cell_type": "code",
   "execution_count": 9,
   "metadata": {},
   "outputs": [
    {
     "name": "stdout",
     "output_type": "stream",
     "text": [
      "ABCD GHTY "
     ]
    }
   ],
   "source": [
    "for car in ['ABCD','GHTY']:\n",
    "    print(car, end=\" \")"
   ]
  },
  {
   "cell_type": "code",
   "execution_count": 10,
   "metadata": {},
   "outputs": [
    {
     "name": "stdout",
     "output_type": "stream",
     "text": [
      "ABCD\tGHTY\t"
     ]
    }
   ],
   "source": [
    "for car in ['ABCD','GHTY']:\n",
    "    print(car, end=\"\\t\")"
   ]
  },
  {
   "cell_type": "code",
   "execution_count": 87,
   "metadata": {},
   "outputs": [
    {
     "ename": "TypeError",
     "evalue": "'int' object is not iterable",
     "output_type": "error",
     "traceback": [
      "\u001b[1;31m---------------------------------------------------------------------------\u001b[0m",
      "\u001b[1;31mTypeError\u001b[0m                                 Traceback (most recent call last)",
      "\u001b[1;32m<ipython-input-87-fa363d407101>\u001b[0m in \u001b[0;36m<module>\u001b[1;34m\u001b[0m\n\u001b[1;32m----> 1\u001b[1;33m \u001b[1;32mfor\u001b[0m \u001b[0mnumber\u001b[0m \u001b[1;32min\u001b[0m \u001b[1;36m12345\u001b[0m\u001b[1;33m:\u001b[0m\u001b[1;33m\u001b[0m\u001b[1;33m\u001b[0m\u001b[0m\n\u001b[0m\u001b[0;32m      2\u001b[0m     \u001b[0mprint\u001b[0m\u001b[1;33m(\u001b[0m\u001b[0mnumber\u001b[0m\u001b[1;33m)\u001b[0m\u001b[1;33m\u001b[0m\u001b[1;33m\u001b[0m\u001b[0m\n",
      "\u001b[1;31mTypeError\u001b[0m: 'int' object is not iterable"
     ]
    }
   ],
   "source": [
    "for number in 12345:\n",
    "    print(number)"
   ]
  },
  {
   "cell_type": "code",
   "execution_count": 90,
   "metadata": {},
   "outputs": [
    {
     "ename": "TypeError",
     "evalue": "'bool' object is not iterable",
     "output_type": "error",
     "traceback": [
      "\u001b[1;31m---------------------------------------------------------------------------\u001b[0m",
      "\u001b[1;31mTypeError\u001b[0m                                 Traceback (most recent call last)",
      "\u001b[1;32m<ipython-input-90-08723892b632>\u001b[0m in \u001b[0;36m<module>\u001b[1;34m\u001b[0m\n\u001b[1;32m----> 1\u001b[1;33m \u001b[1;32mfor\u001b[0m \u001b[0mdata\u001b[0m \u001b[1;32min\u001b[0m \u001b[1;32mTrue\u001b[0m\u001b[1;33m:\u001b[0m\u001b[1;33m\u001b[0m\u001b[1;33m\u001b[0m\u001b[0m\n\u001b[0m\u001b[0;32m      2\u001b[0m     \u001b[0mprint\u001b[0m\u001b[1;33m(\u001b[0m\u001b[0mdata\u001b[0m\u001b[1;33m)\u001b[0m\u001b[1;33m\u001b[0m\u001b[1;33m\u001b[0m\u001b[0m\n",
      "\u001b[1;31mTypeError\u001b[0m: 'bool' object is not iterable"
     ]
    }
   ],
   "source": [
    "for data in True:\n",
    "    print(data)"
   ]
  },
  {
   "cell_type": "code",
   "execution_count": 95,
   "metadata": {},
   "outputs": [
    {
     "name": "stdout",
     "output_type": "stream",
     "text": [
      "JAN\n",
      "FEB\n",
      "MARCH\n"
     ]
    }
   ],
   "source": [
    "for month in ['jan','feb','march']:\n",
    "    print(month.upper())"
   ]
  },
  {
   "cell_type": "code",
   "execution_count": 100,
   "metadata": {},
   "outputs": [
    {
     "name": "stdout",
     "output_type": "stream",
     "text": [
      "this is from india\n",
      "this is not from india\n",
      "this is not from india\n"
     ]
    }
   ],
   "source": [
    "for currency in ('INR','USD','SGD'):\n",
    "    if currency=='INR':\n",
    "        print(\"this is from india\")\n",
    "    else:\n",
    "        print(\"this is not from india\")"
   ]
  },
  {
   "cell_type": "code",
   "execution_count": null,
   "metadata": {},
   "outputs": [],
   "source": []
  },
  {
   "cell_type": "code",
   "execution_count": 7,
   "metadata": {},
   "outputs": [],
   "source": [
    "d={'1':1,'2':4,'3':9,'four':16}\n",
    "\n"
   ]
  },
  {
   "cell_type": "code",
   "execution_count": 8,
   "metadata": {},
   "outputs": [
    {
     "name": "stdout",
     "output_type": "stream",
     "text": [
      "valid\n",
      "valid\n",
      "valid\n",
      "not a number\n"
     ]
    }
   ],
   "source": [
    "for keys,values in d.items():\n",
    "    if keys.isnumeric():\n",
    "        print('valid')\n",
    "    else:\n",
    "        print(\"not a number\")\n",
    "         "
   ]
  },
  {
   "cell_type": "code",
   "execution_count": 131,
   "metadata": {},
   "outputs": [],
   "source": [
    "d2={'UID':'HGTTGT','pan':'ghghg'}"
   ]
  },
  {
   "cell_type": "code",
   "execution_count": 138,
   "metadata": {},
   "outputs": [
    {
     "name": "stdout",
     "output_type": "stream",
     "text": [
      "valid\n",
      "ntv\n"
     ]
    }
   ],
   "source": [
    "for keys,values in d2.items():\n",
    "    if keys.isupper():\n",
    "        print('valid')\n",
    "    else:\n",
    "        print('ntv')\n",
    "    "
   ]
  },
  {
   "cell_type": "code",
   "execution_count": null,
   "metadata": {},
   "outputs": [],
   "source": [
    "write a python code to print odd data in range 1, 50"
   ]
  },
  {
   "cell_type": "code",
   "execution_count": 154,
   "metadata": {},
   "outputs": [
    {
     "name": "stdout",
     "output_type": "stream",
     "text": [
      "1 3 5 7 9 11 13 15 17 19 21 23 25 27 29 31 33 35 37 39 41 43 45 47 49 "
     ]
    }
   ],
   "source": [
    "for numbers in range(1,50,2):\n",
    "    print(numbers, end=\" \")"
   ]
  },
  {
   "cell_type": "code",
   "execution_count": 155,
   "metadata": {},
   "outputs": [
    {
     "name": "stdout",
     "output_type": "stream",
     "text": [
      "1 3 5 7 9 11 13 15 17 19 21 23 25 27 29 31 33 35 37 39 41 43 45 47 49 "
     ]
    }
   ],
   "source": [
    "for numbers in range(0,50):\n",
    "    if numbers%2!=0:\n",
    "        print(numbers, end=\" \")"
   ]
  },
  {
   "cell_type": "code",
   "execution_count": null,
   "metadata": {},
   "outputs": [],
   "source": [
    "IBM-data scientist- elimination round 1"
   ]
  },
  {
   "cell_type": "code",
   "execution_count": null,
   "metadata": {},
   "outputs": [],
   "source": [
    "write a python program to print list of numbers from 71 to 80.\n",
    "thee code should not have any number but the output should be a number."
   ]
  },
  {
   "cell_type": "code",
   "execution_count": 162,
   "metadata": {},
   "outputs": [
    {
     "name": "stdout",
     "output_type": "stream",
     "text": [
      "71\n",
      "72\n",
      "73\n",
      "74\n",
      "75\n",
      "76\n",
      "77\n",
      "78\n",
      "79\n",
      "80\n"
     ]
    }
   ],
   "source": [
    "for data in range(ord('G'),ord('Q')):\n",
    "    print(data)"
   ]
  },
  {
   "cell_type": "code",
   "execution_count": null,
   "metadata": {},
   "outputs": [],
   "source": [
    "to check whether a number is divisble by 5 and 15"
   ]
  },
  {
   "cell_type": "code",
   "execution_count": 164,
   "metadata": {},
   "outputs": [
    {
     "name": "stdout",
     "output_type": "stream",
     "text": [
      "please enter10\n"
     ]
    }
   ],
   "source": [
    "num=float(input(\"please enter\"))\n",
    "if num%5==0 and num%15==0:\n",
    "    print(\"this number is div by both 5 and 15\",num)"
   ]
  },
  {
   "cell_type": "code",
   "execution_count": 165,
   "metadata": {},
   "outputs": [],
   "source": [
    "# print formatting with strings"
   ]
  },
  {
   "cell_type": "code",
   "execution_count": 14,
   "metadata": {},
   "outputs": [
    {
     "name": "stdout",
     "output_type": "stream",
     "text": [
      "what is the cuurent year2021\n",
      "the current year is 2021\n"
     ]
    }
   ],
   "source": [
    "year=int(input(\"what is the cuurent year\"))\n",
    "print(\"the current year is %d\" %year)"
   ]
  },
  {
   "cell_type": "code",
   "execution_count": null,
   "metadata": {},
   "outputs": [],
   "source": []
  },
  {
   "cell_type": "code",
   "execution_count": 15,
   "metadata": {},
   "outputs": [
    {
     "name": "stdout",
     "output_type": "stream",
     "text": [
      "the current year is 2021.00\n"
     ]
    }
   ],
   "source": [
    "print(\"the current year is %.2f\" %year)"
   ]
  },
  {
   "cell_type": "code",
   "execution_count": 8,
   "metadata": {},
   "outputs": [
    {
     "name": "stdout",
     "output_type": "stream",
     "text": [
      "the current year is 2021\n"
     ]
    }
   ],
   "source": [
    "print(\"the current year is {}\".format(2021))"
   ]
  },
  {
   "cell_type": "code",
   "execution_count": 178,
   "metadata": {},
   "outputs": [
    {
     "name": "stdout",
     "output_type": "stream",
     "text": [
      "the current year is 2021 and month is april\n"
     ]
    }
   ],
   "source": [
    "print(\"the current year is {} and month is {}\".format(2021,'april'))"
   ]
  },
  {
   "cell_type": "code",
   "execution_count": 181,
   "metadata": {},
   "outputs": [
    {
     "name": "stdout",
     "output_type": "stream",
     "text": [
      "the current year is 2021 and month is april\n"
     ]
    }
   ],
   "source": [
    "print(\"the current year is {year} and month is {month}\".format(year=2021,month='april'))"
   ]
  },
  {
   "cell_type": "code",
   "execution_count": 182,
   "metadata": {},
   "outputs": [],
   "source": [
    "# fstrings"
   ]
  },
  {
   "cell_type": "code",
   "execution_count": 183,
   "metadata": {},
   "outputs": [],
   "source": [
    "d={'fruit':'mango'}"
   ]
  },
  {
   "cell_type": "code",
   "execution_count": 189,
   "metadata": {},
   "outputs": [
    {
     "name": "stdout",
     "output_type": "stream",
     "text": [
      "my fav fruit is mango\n"
     ]
    }
   ],
   "source": [
    "print(f\"my fav fruit is {d['fruit']}\")"
   ]
  },
  {
   "cell_type": "code",
   "execution_count": null,
   "metadata": {},
   "outputs": [],
   "source": []
  }
 ],
 "metadata": {
  "kernelspec": {
   "display_name": "Python 3",
   "language": "python",
   "name": "python3"
  },
  "language_info": {
   "codemirror_mode": {
    "name": "ipython",
    "version": 3
   },
   "file_extension": ".py",
   "mimetype": "text/x-python",
   "name": "python",
   "nbconvert_exporter": "python",
   "pygments_lexer": "ipython3",
   "version": "3.8.8"
  }
 },
 "nbformat": 4,
 "nbformat_minor": 4
}
